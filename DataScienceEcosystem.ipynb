{
 "cells": [
  {
   "cell_type": "markdown",
   "id": "ca25ef54-a3fd-4b3f-9583-af85c74dfb0e",
   "metadata": {
    "tags": []
   },
   "source": [
    "# Data Science Tools and Ecosystem"
   ]
  },
  {
   "cell_type": "markdown",
   "id": "98cf82c1-f6a4-4639-b5dc-4ab4eed3dc31",
   "metadata": {},
   "source": [
    "In this notebook, Data Science Tools and Ecosystem are summarized."
   ]
  },
  {
   "cell_type": "markdown",
   "id": "e5590c0f-5cac-4dac-8c31-be6457cf33f2",
   "metadata": {},
   "source": [
    "**Objectives:**\n",
    "- Libraries used by Data Scientists\n",
    "- Languages used by Data Scientists\n",
    "- Popular languages that Data Scientist use"
   ]
  },
  {
   "cell_type": "markdown",
   "id": "0ba193f6-0cc0-4b80-8ff0-f693384982b9",
   "metadata": {},
   "source": [
    "Some of the popular languages that Data Scientists use are:\n",
    "1. SQL\n",
    "2. Python\n",
    "3. GO\n",
    "4. JavaScript\n"
   ]
  },
  {
   "cell_type": "markdown",
   "id": "e7596859-e3eb-4527-a4f5-8f0186b4a85a",
   "metadata": {},
   "source": [
    "Some of the commonly used libraries used by Data Scientists include:"
   ]
  },
  {
   "cell_type": "markdown",
   "id": "639311b3-532b-4abf-9b53-8db596525a2a",
   "metadata": {},
   "source": [
    "1. TensorFlow\n",
    "2. Pandas\n",
    "3. PyTorch"
   ]
  },
  {
   "cell_type": "markdown",
   "id": "428a4c6d-dc50-438f-884a-2283b0fb3a18",
   "metadata": {},
   "source": [
    "| Data Science Tools| Open-Source Tools | \n",
    "| :---------------- | -------:          | \n",
    "| Tool 1            |   TensorFlow      | \n",
    "| Tool 2            |   Apache spark    | \n",
    "| Tool 3            |  RStudio          | "
   ]
  },
  {
   "cell_type": "markdown",
   "id": "d99e96d5-b0d7-4b1b-8f9a-7c00205cb769",
   "metadata": {},
   "source": [
    "### Below are a few examples of evaluating arithmetic expressions in Python: "
   ]
  },
  {
   "cell_type": "markdown",
   "id": "841a5327-3885-403e-b827-d2bad97caead",
   "metadata": {},
   "source": [
    "This a simple arithmetic expression to mutiply then add integers"
   ]
  },
  {
   "cell_type": "code",
   "execution_count": 7,
   "id": "0f845249-2aa4-4315-a9c6-d868a151dd55",
   "metadata": {},
   "outputs": [
    {
     "data": {
      "text/plain": [
       "17"
      ]
     },
     "execution_count": 7,
     "metadata": {},
     "output_type": "execute_result"
    }
   ],
   "source": [
    "(3*4)+5"
   ]
  },
  {
   "cell_type": "markdown",
   "id": "d883af49-3df3-47be-9dc8-736117683fd5",
   "metadata": {},
   "source": [
    "This will convert 200 minutes to hours by diving by 60"
   ]
  },
  {
   "cell_type": "code",
   "execution_count": 8,
   "id": "f7a2222b-61a5-4ef6-9d31-855b54a9504d",
   "metadata": {},
   "outputs": [
    {
     "data": {
      "text/plain": [
       "3.3333333333333335"
      ]
     },
     "execution_count": 8,
     "metadata": {},
     "output_type": "execute_result"
    }
   ],
   "source": [
    "200/60"
   ]
  },
  {
   "cell_type": "markdown",
   "id": "f75fd9b4-1978-4d5c-85a0-2260e9116751",
   "metadata": {},
   "source": [
    "## Author\n",
    "Aleena Sanchez"
   ]
  },
  {
   "cell_type": "code",
   "execution_count": null,
   "id": "64467d2a-6686-4d71-8882-48edb7f938a9",
   "metadata": {},
   "outputs": [],
   "source": []
  }
 ],
 "metadata": {
  "kernelspec": {
   "display_name": "Python",
   "language": "python",
   "name": "conda-env-python-py"
  },
  "language_info": {
   "codemirror_mode": {
    "name": "ipython",
    "version": 3
   },
   "file_extension": ".py",
   "mimetype": "text/x-python",
   "name": "python",
   "nbconvert_exporter": "python",
   "pygments_lexer": "ipython3",
   "version": "3.7.12"
  }
 },
 "nbformat": 4,
 "nbformat_minor": 5
}
